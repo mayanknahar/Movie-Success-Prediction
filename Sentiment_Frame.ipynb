{
 "cells": [
  {
   "cell_type": "code",
   "execution_count": 1,
   "metadata": {},
   "outputs": [],
   "source": [
    "from tkinter import *\n",
    "import csv\n",
    "import tweepy\n",
    "from textblob import TextBlob\n",
    "import numpy as np\n",
    "import matplotlib.pyplot as plt\n",
    "import pandas as pd\n",
    "import re\n",
    "import nltk\n",
    "from nltk.stem.porter import PorterStemmer\n"
   ]
  },
  {
   "cell_type": "code",
   "execution_count": 2,
   "metadata": {},
   "outputs": [
    {
     "name": "stderr",
     "output_type": "stream",
     "text": [
      "[nltk_data] Downloading package stopwords to\n",
      "[nltk_data]     C:\\Users\\Marcos\\AppData\\Roaming\\nltk_data...\n",
      "[nltk_data]   Package stopwords is already up-to-date!\n"
     ]
    }
   ],
   "source": [
    "nltk.download(\"stopwords\")\n",
    "from nltk.corpus import stopwords"
   ]
  },
  {
   "cell_type": "code",
   "execution_count": 3,
   "metadata": {},
   "outputs": [
    {
     "data": {
      "text/plain": [
       "''"
      ]
     },
     "execution_count": 3,
     "metadata": {},
     "output_type": "execute_result"
    }
   ],
   "source": [
    "root=Tk()    # it provides the basic window for display\n",
    "root.title(\"Movie Success Prediction\")"
   ]
  },
  {
   "cell_type": "code",
   "execution_count": 4,
   "metadata": {},
   "outputs": [],
   "source": [
    "def cleanAna():\n",
    "    polar=[]\n",
    "    subject=[]\n",
    "    try:\n",
    "        with open(\"Dataset_Major.csv\",\"a\") as csvfile:\n",
    "            writer=csv.writer(csvfile)\n",
    "            #writer.writerow([\"Movie Name\",\"Genre\",\"Actor Name\",\"Polarity\",\"Subjectivity\"])\n",
    "            for tweet in tweepy.Cursor(api.search,q=name.get(),lang=\"en\").items(1000):\n",
    "                review=re.sub(\"(@[A-Za-z0-9]+)|([^0-9A-Za-z \\t])|(\\w+:\\/\\/\\S+)\",\" \",tweet.text)\n",
    "                review=review.lower()\n",
    "                review=review.split()\n",
    "                ps=PorterStemmer()\n",
    "                review=[ps.stem(word) for word in review if not word in set(stopwords.words(\"english\"))]\n",
    "                review=\" \".join(review)\n",
    "                analysis=TextBlob(review)\n",
    "                polar.append(analysis.sentiment.polarity)\n",
    "                subject.append(analysis.sentiment.subjectivity)\n",
    "            \n",
    "            polarScore=float(sum(polar)/len(polar))\n",
    "            polar.clear()\n",
    "            subjectScore=float(sum(subject)/len(subject))\n",
    "            subject.clear()\n",
    "            print(polarScore)\n",
    "            writer.writerow([name.get(),genre.get(ACTIVE),actorName1.get(),polarScore,subjectScore,actorName2.get(),1])\n",
    "            csv.close()\n",
    "            \n",
    "    except Exception:\n",
    "        return"
   ]
  },
  {
   "cell_type": "code",
   "execution_count": 5,
   "metadata": {},
   "outputs": [],
   "source": [
    "def learnSVR():\n",
    "    try:\n",
    "        dataset = pd.read_csv('Dataset_Major.csv')\n",
    "        #dataset1= pd.read_csv(\"Dataset.csv\")\n",
    "        X = dataset.iloc[:,[3,4]].values\n",
    "        y = dataset.iloc[:, 6].values\n",
    "    \n",
    "        #X_test=dataset1.iloc[:,[3,4]].values\n",
    "\n",
    "        # Splitting the dataset into the Training set and Test set\n",
    "        from sklearn.model_selection import train_test_split\n",
    "        X_train, X_test, y_train, y_test = train_test_split(X, y, test_size = 0.2, random_state = 0)\n",
    "\n",
    "        # Feature Scaling\n",
    "        from sklearn.preprocessing import StandardScaler\n",
    "        sc = StandardScaler()\n",
    "        sc_y = StandardScaler()\n",
    "        X_train = sc.fit_transform(X_train)\n",
    "        X_test = sc.fit_transform(X_test)\n",
    "        y_train = sc_y.fit_transform(y_train.reshape(len(y_train),1))\n",
    "\n",
    "        # Fitting SVR to the dataset\n",
    "        from sklearn.svm import SVR\n",
    "        regressor = SVR(kernel = 'rbf')\n",
    "        regressor.fit(X_train, y_train)\n",
    "\n",
    "        # Predicting a new result\n",
    "        y_pred = sc_y.inverse_transform(regressor.predict(X_test))\n",
    "        \n",
    "        return y_pred[-1]\n",
    "    except Exception as e:\n",
    "        print(\"Exception occured in SVR\",e)"
   ]
  },
  {
   "cell_type": "code",
   "execution_count": 6,
   "metadata": {},
   "outputs": [],
   "source": [
    "def learnDec():\n",
    "    try:\n",
    "        dataset = pd.read_csv('Dataset_Major.csv')\n",
    "        #dataset1= pd.read_csv(\"Dataset.csv\")\n",
    "        X = dataset.iloc[:,[3,4]].values\n",
    "        y = dataset.iloc[:, 6].values\n",
    "    \n",
    "        #X_test=dataset1.iloc[:,[3,4]].values\n",
    "    \n",
    "    \n",
    "        # Splitting the dataset into the Training set and Test set\n",
    "        from sklearn.model_selection import train_test_split\n",
    "        X_train, X_test, y_train, y_test = train_test_split(X, y, test_size = 0.2, random_state = 0)\n",
    "    \n",
    "        # Feature Scaling\n",
    "        from sklearn.preprocessing import StandardScaler\n",
    "        sc = StandardScaler()\n",
    "        X_train = sc.fit_transform(X_train)\n",
    "        X_test = sc.transform(X_test)\n",
    "    \n",
    "        # Fitting Decision Tree Regression to the dataset\n",
    "        from sklearn.tree import DecisionTreeRegressor\n",
    "        regressor = DecisionTreeRegressor(random_state = 0)\n",
    "        regressor.fit(X_train, y_train)\n",
    "    \n",
    "        y_pred = regressor.predict(X_test)\n",
    "        return y_pred[-1]\n",
    "    except Exception as e:\n",
    "        print(\"Exception occured in Decision\",e)\n",
    "    "
   ]
  },
  {
   "cell_type": "code",
   "execution_count": 7,
   "metadata": {},
   "outputs": [],
   "source": [
    "def learnRandom():\n",
    "    try:\n",
    "        dataset = pd.read_csv('Dataset_Major.csv')\n",
    "        #dataset1= pd.read_csv(\"Dataset.csv\")\n",
    "        X = dataset.iloc[:,[3,4]].values\n",
    "        y = dataset.iloc[:, 6].values\n",
    "    \n",
    "        #X_test=dataset1.iloc[:,[3,4]].values\n",
    "\n",
    "        # Splitting the dataset into the Training set and Test set\n",
    "        from sklearn.model_selection import train_test_split\n",
    "        X_train, X_test, y_train, y_test = train_test_split(X, y, test_size = 0.2, random_state = 0)\n",
    "\n",
    "        # Feature Scaling\n",
    "        from sklearn.preprocessing import StandardScaler\n",
    "        sc = StandardScaler()\n",
    "        X_train = sc.fit_transform(X_train)\n",
    "        X_test = sc.transform(X_test)\n",
    "        #sc_y = StandardScaler()\n",
    "        #y_train = sc_y.fit_transform(y_train.reshape(-1,1))\n",
    "\n",
    "        # Fitting Random Forest Regression to the dataset\n",
    "        from sklearn.ensemble import RandomForestRegressor\n",
    "        regressor = RandomForestRegressor(n_estimators = 10, random_state = 0)\n",
    "        regressor.fit(X_train, y_train)\n",
    "\n",
    "        # Predicting a new result\n",
    "        y_pred = regressor.predict(X_test)\n",
    "        return y_pred[-1]\n",
    "    except Exception as e:\n",
    "        print(\"Exception occured in Random\",e)"
   ]
  },
  {
   "cell_type": "code",
   "execution_count": 8,
   "metadata": {},
   "outputs": [],
   "source": [
    "\n",
    "def tweets():\n",
    "    try:\n",
    "        cleanAna()\n",
    "        a=learnSVR()\n",
    "        b=learnDec()\n",
    "        c=learnRandom()\n",
    "        label1.config(text=\"Using SVR: \"+str(a))\n",
    "        label2.config(text=\"Using Decision Tree Regression: \"+str(b))\n",
    "        label3.config(text=\"Using Random Forest Regression: \"+str(c))\n",
    "        if a>=6 or b>=6 or c>=6:\n",
    "            label4.config(text=\"Success\")\n",
    "        elif a in range(4,6) or b in range(4,6) or c in range(4,6):\n",
    "            label4.config(text=\"Average\")\n",
    "        else:\n",
    "            label4.config(text=\"Flop\")\n",
    "    except Exception as e:\n",
    "        print(\"Exception occured in tweets\",e)\n",
    "    "
   ]
  },
  {
   "cell_type": "code",
   "execution_count": 9,
   "metadata": {},
   "outputs": [],
   "source": [
    "apiKey=\"0PaDbNyGOmxziJFzFL427dcoF\"\n",
    "apiSecretKey=\"YxzTOsvaEnyhrwDwqswLzsqS36BuEPML0d2fL8yGS4FqU8OjNw\"\n",
    "accessToken=\"4904328277-XRU4LIs01e7qiyvKTs4gGBGExyJrkT8xp4KckFy\"\n",
    "accessTokenSecret=\"GuDJ9IjGzWvsKFYMSQUAoXNCclXCghUAiuDdM73NIEukr\"\n",
    "\n",
    "auth = tweepy.OAuthHandler(apiKey,apiSecretKey)\n",
    "auth.set_access_token(accessToken,accessTokenSecret)\n",
    "api=tweepy.API(auth)\n"
   ]
  },
  {
   "cell_type": "code",
   "execution_count": 10,
   "metadata": {},
   "outputs": [],
   "source": [
    "root.geometry(\"400x900\")\n",
    "\n",
    "labelName=Label(root,text=\"Enter the name of the movie\",padx=15,pady=10)\n",
    "name=Entry(root,width=50,borderwidth=5)\n",
    "\n",
    "\n",
    "labelActor1=Label(root,text=\"Enter the name of 1st actor\",padx=15,pady=10)\n",
    "actorName1=Entry(root,width=50,borderwidth=5)\n",
    "labelActor2=Label(root,text=\"Enter the name of 2nd actor\",padx=15,pady=10)\n",
    "actorName2=Entry(root,width=50,borderwidth=5)\n",
    "\n",
    "labelGenre=Label(root,text=\"Select the genre of the movie\",padx=15,pady=10)\n",
    "genre=Listbox(root,height=5,bd=5,selectmode=\"Single\")\n",
    "genre.insert(1,\"Action\")\n",
    "genre.insert(2,\"Drama\")\n",
    "genre.insert(3,\"Horror\")\n",
    "genre.insert(4,\"Comedy\")\n",
    "genre.insert(5,\"Romantic\")\n",
    "\n",
    "labelDate=Label(root,text=\"Enter the year of release\",padx=15,pady=10)\n",
    "date=Entry(root,width=50,borderwidth=5)\n",
    "\n",
    "labelPred=Label(root,text=\"Imdb Score predicted\",padx=15,pady=10)\n",
    "label1=Label(root,padx=15,pady=10)\n",
    "label2=Label(root,padx=15,pady=10)\n",
    "label3=Label(root,padx=15,pady=10)\n",
    "label4=Label(root,padx=15,pady=10)\n"
   ]
  },
  {
   "cell_type": "code",
   "execution_count": 11,
   "metadata": {},
   "outputs": [],
   "source": [
    "# .pack() or .grid()\n",
    "labelName.pack()\n",
    "name.pack()\n",
    "\n",
    "labelActor1.pack()\n",
    "actorName1.pack()\n",
    "labelActor2.pack()\n",
    "actorName2.pack()\n",
    "\n",
    "labelGenre.pack()\n",
    "genre.pack()\n",
    "\n",
    "labelDate.pack()\n",
    "date.pack()\n",
    "labelPred.pack()\n",
    "label1.pack()\n",
    "label2.pack()\n",
    "label3.pack()\n",
    "label4.pack()\n"
   ]
  },
  {
   "cell_type": "code",
   "execution_count": 12,
   "metadata": {},
   "outputs": [],
   "source": [
    "button_predict=Button(root,text=\"Predict\",bg=\"#7EC0EE\",padx=15,pady=10,command=tweets) \n",
    "button_predict.pack()\n",
    "\n",
    "button_quit=Button(root,text=\"Exit\",bg=\"#7EC0EE\",padx=15,pady=10,command=root.destroy)\n",
    "button_quit.pack()"
   ]
  },
  {
   "cell_type": "code",
   "execution_count": null,
   "metadata": {},
   "outputs": [
    {
     "name": "stderr",
     "output_type": "stream",
     "text": [
      "C:\\Users\\Marcos\\AppData\\Roaming\\Python\\Python38\\site-packages\\sklearn\\utils\\validation.py:760: DataConversionWarning: A column-vector y was passed when a 1d array was expected. Please change the shape of y to (n_samples, ), for example using ravel().\n",
      "  y = column_or_1d(y, warn=True)\n"
     ]
    }
   ],
   "source": [
    "root.mainloop()  #it is the infinite loop to view the window"
   ]
  },
  {
   "cell_type": "code",
   "execution_count": null,
   "metadata": {},
   "outputs": [],
   "source": []
  },
  {
   "cell_type": "code",
   "execution_count": null,
   "metadata": {},
   "outputs": [],
   "source": []
  }
 ],
 "metadata": {
  "kernelspec": {
   "display_name": "Python 3",
   "language": "python",
   "name": "python3"
  },
  "language_info": {
   "codemirror_mode": {
    "name": "ipython",
    "version": 3
   },
   "file_extension": ".py",
   "mimetype": "text/x-python",
   "name": "python",
   "nbconvert_exporter": "python",
   "pygments_lexer": "ipython3",
   "version": "3.8.1"
  }
 },
 "nbformat": 4,
 "nbformat_minor": 4
}
